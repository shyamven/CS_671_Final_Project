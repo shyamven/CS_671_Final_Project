{
  "nbformat": 4,
  "nbformat_minor": 0,
  "metadata": {
    "colab": {
      "name": "Kaggle Competition - Logistic Regression.ipynb",
      "provenance": [],
      "collapsed_sections": []
    },
    "kernelspec": {
      "name": "python3",
      "display_name": "Python 3"
    },
    "language_info": {
      "name": "python"
    }
  },
  "cells": [
    {
      "cell_type": "markdown",
      "metadata": {
        "id": "PBGsQrdGhMtn"
      },
      "source": [
        "## Logistic Regression Notebook"
      ]
    },
    {
      "cell_type": "code",
      "metadata": {
        "id": "K4R2ovrGg4_J",
        "colab": {
          "base_uri": "https://localhost:8080/"
        },
        "outputId": "06f2be57-c351-4415-decc-0a55d55aa600"
      },
      "source": [
        "!pip install -U matplotlib # Install the newest version of matplotlib (requires kernel to be restarted)\n",
        "\n",
        "import numpy as np\n",
        "import pandas as pd\n",
        "from pandas.api.types import is_numeric_dtype\n",
        "import matplotlib.pyplot as plt\n",
        "from matplotlib import cm\n",
        "import seaborn as sns\n",
        "\n",
        "from sklearn.linear_model import LogisticRegression\n",
        "from sklearn.ensemble import GradientBoostingClassifier\n",
        "from sklearn.model_selection import KFold\n",
        "from sklearn.metrics import accuracy_score\n",
        "from sklearn.preprocessing import OneHotEncoder, LabelEncoder\n",
        "from sklearn.metrics import roc_curve, auc"
      ],
      "execution_count": 1,
      "outputs": [
        {
          "output_type": "stream",
          "name": "stdout",
          "text": [
            "Requirement already satisfied: matplotlib in /usr/local/lib/python3.7/dist-packages (3.5.0)\n",
            "Requirement already satisfied: pyparsing>=2.2.1 in /usr/local/lib/python3.7/dist-packages (from matplotlib) (3.0.6)\n",
            "Requirement already satisfied: fonttools>=4.22.0 in /usr/local/lib/python3.7/dist-packages (from matplotlib) (4.28.3)\n",
            "Requirement already satisfied: python-dateutil>=2.7 in /usr/local/lib/python3.7/dist-packages (from matplotlib) (2.8.2)\n",
            "Requirement already satisfied: setuptools-scm>=4 in /usr/local/lib/python3.7/dist-packages (from matplotlib) (6.3.2)\n",
            "Requirement already satisfied: numpy>=1.17 in /usr/local/lib/python3.7/dist-packages (from matplotlib) (1.19.5)\n",
            "Requirement already satisfied: cycler>=0.10 in /usr/local/lib/python3.7/dist-packages (from matplotlib) (0.11.0)\n",
            "Requirement already satisfied: kiwisolver>=1.0.1 in /usr/local/lib/python3.7/dist-packages (from matplotlib) (1.3.2)\n",
            "Requirement already satisfied: pillow>=6.2.0 in /usr/local/lib/python3.7/dist-packages (from matplotlib) (7.1.2)\n",
            "Requirement already satisfied: packaging>=20.0 in /usr/local/lib/python3.7/dist-packages (from matplotlib) (21.3)\n",
            "Requirement already satisfied: six>=1.5 in /usr/local/lib/python3.7/dist-packages (from python-dateutil>=2.7->matplotlib) (1.15.0)\n",
            "Requirement already satisfied: tomli>=1.0.0 in /usr/local/lib/python3.7/dist-packages (from setuptools-scm>=4->matplotlib) (1.2.2)\n",
            "Requirement already satisfied: setuptools in /usr/local/lib/python3.7/dist-packages (from setuptools-scm>=4->matplotlib) (57.4.0)\n"
          ]
        }
      ]
    },
    {
      "cell_type": "code",
      "metadata": {
        "colab": {
          "base_uri": "https://localhost:8080/"
        },
        "id": "vGOesYtTqjt9",
        "outputId": "a3cd4fe0-a09e-4309-b8c7-c964ce829ef6"
      },
      "source": [
        "from google.colab import drive\n",
        "drive.mount('/content/drive')"
      ],
      "execution_count": 2,
      "outputs": [
        {
          "output_type": "stream",
          "name": "stdout",
          "text": [
            "Mounted at /content/drive\n"
          ]
        }
      ]
    },
    {
      "cell_type": "markdown",
      "metadata": {
        "id": "4UvUyW8yXG4Z"
      },
      "source": [
        "### Load Dataset"
      ]
    },
    {
      "cell_type": "code",
      "metadata": {
        "id": "KoKxmTN-k5Q9",
        "colab": {
          "base_uri": "https://localhost:8080/"
        },
        "outputId": "c88122c5-650a-49bf-cb91-10fb2abb0c06"
      },
      "source": [
        "Coupon_train = pd.read_csv('/content/drive/MyDrive/Colab Notebooks/train.csv')\n",
        "Coupon_test = pd.read_csv('/content/drive/MyDrive/Colab Notebooks/test.csv')\n",
        "\n",
        "print(Coupon_train)\n",
        "print(Coupon_test)"
      ],
      "execution_count": 3,
      "outputs": [
        {
          "output_type": "stream",
          "name": "stdout",
          "text": [
            "          id  Decision  ... Direction_same Distance\n",
            "0          1         1  ...              0        2\n",
            "1          2         0  ...              0        2\n",
            "2          3         1  ...              0        1\n",
            "3          4         1  ...              0        1\n",
            "4          5         1  ...              1        2\n",
            "...      ...       ...  ...            ...      ...\n",
            "10179  10180         0  ...              0        2\n",
            "10180  10181         1  ...              0        1\n",
            "10181  10182         0  ...              0        2\n",
            "10182  10183         0  ...              0        1\n",
            "10183  10184         0  ...              0        1\n",
            "\n",
            "[10184 rows x 23 columns]\n",
            "        id       Driving_to  ... Direction_same Distance\n",
            "0        1  No Urgent Place  ...              0        1\n",
            "1        2             Home  ...              1        2\n",
            "2        3  No Urgent Place  ...              0        2\n",
            "3        4  No Urgent Place  ...              0        2\n",
            "4        5             Work  ...              1        2\n",
            "...    ...              ...  ...            ...      ...\n",
            "2495  2496  No Urgent Place  ...              0        1\n",
            "2496  2497  No Urgent Place  ...              0        1\n",
            "2497  2498             Work  ...              0        3\n",
            "2498  2499  No Urgent Place  ...              0        1\n",
            "2499  2500             Home  ...              0        1\n",
            "\n",
            "[2500 rows x 22 columns]\n"
          ]
        }
      ]
    },
    {
      "cell_type": "markdown",
      "metadata": {
        "id": "mYlaMA0vVJVl"
      },
      "source": [
        "### Data Imputation"
      ]
    },
    {
      "cell_type": "code",
      "metadata": {
        "id": "LdKPO8QeVIfy"
      },
      "source": [
        "# Fill NaN values according to feature distribution\n",
        "for col in Coupon_train:\n",
        "  s = Coupon_train[col].value_counts(normalize=True)\n",
        "  missing = Coupon_train[col].isnull()\n",
        "  Coupon_train.loc[missing,col] = np.random.choice(s.index, size=len(Coupon_train[missing]),p=s.values)\n",
        "\n",
        "# Fill NaN values according to feature distribution\n",
        "for col in Coupon_test:\n",
        "  s = Coupon_test[col].value_counts(normalize=True)\n",
        "  missing = Coupon_test[col].isnull()\n",
        "  Coupon_test.loc[missing,col] = np.random.choice(s.index, size=len(Coupon_test[missing]),p=s.values)\n",
        "\n",
        "# Nominal Features, Ordinal Features + Frequency Subset\n",
        "nominal = ['Driving_to','Passanger','Weather','Temperature','Time','Coupon','Coupon_validity','Gender',\n",
        "           'Age','Maritalstatus','Children','Education','Occupation','Income','Direction_same']\n",
        "ordinal = ['Bar','Coffeehouse','Carryaway','Restaurantlessthan20','Restaurant20to50','Distance']\n",
        "frequency = ['Bar','Coffeehouse','Carryaway','Restaurantlessthan20','Restaurant20to50']\n",
        "\n",
        "# Removing id and Decision from train data\n",
        "Coupon_train.drop('id', inplace=True, axis=1) # Removing id (redundant)\n",
        "Decision = Coupon_train['Decision']\n",
        "Coupon_train.drop('Decision', inplace=True, axis=1)\n",
        "\n",
        "# Removing id from test data\n",
        "id = Coupon_test['id'].to_numpy()\n",
        "Coupon_test.drop('id', inplace=True, axis=1) # Removing id (redundant)"
      ],
      "execution_count": 4,
      "outputs": []
    },
    {
      "cell_type": "markdown",
      "source": [
        "### Label Encoding Ordinal Features"
      ],
      "metadata": {
        "id": "2I1EKsR_cDfJ"
      }
    },
    {
      "cell_type": "code",
      "source": [
        "# Training Data\n",
        "Coupon_train[frequency] = Coupon_train[frequency].astype(int)\n",
        "Coupon_train['Distance'] = Coupon_train['Distance'].map({1:0, 2:1, 3:0})\n",
        "\n",
        "# Test Data\n",
        "Coupon_test[frequency] = Coupon_test[frequency].astype(int)\n",
        "Coupon_test['Distance'] = Coupon_test['Distance'].map({1:0, 2:1, 3:2})"
      ],
      "metadata": {
        "id": "C4vdqknscCv7"
      },
      "execution_count": 5,
      "outputs": []
    },
    {
      "cell_type": "markdown",
      "source": [
        "### One-Hot Encoding Nominal Features"
      ],
      "metadata": {
        "id": "7BWzcPLDmpih"
      }
    },
    {
      "cell_type": "code",
      "metadata": {
        "colab": {
          "base_uri": "https://localhost:8080/"
        },
        "id": "vhwWJvlNVPIJ",
        "outputId": "d6397750-7f17-4f8c-8dfc-f7fcd41ee599"
      },
      "source": [
        "one_hot = OneHotEncoder(sparse=False)\n",
        "\n",
        "# Training Data\n",
        "Coupon_train_nominal = pd.DataFrame(one_hot.fit_transform(Coupon_train[nominal]), \n",
        "                                    index = np.arange(0,len(Coupon_train[nominal])), \n",
        "                                    columns = one_hot.get_feature_names_out(Coupon_train[nominal].columns))\n",
        "Coupon_train = pd.concat([Decision, Coupon_train[ordinal], Coupon_train_nominal], axis=1)\n",
        "Coupon_train = Coupon_train.astype(int) # Converting all training labels to int\n",
        "Coupon_train.drop_duplicates(keep='first', inplace=True) # Drop duplicate labels\n",
        "\n",
        "# Test Data\n",
        "Coupon_test_nominal = pd.DataFrame(one_hot.fit_transform(Coupon_test[nominal]), \n",
        "                                   index = np.arange(0,len(Coupon_test[nominal])), \n",
        "                                   columns = one_hot.get_feature_names_out(Coupon_test[nominal].columns))\n",
        "Coupon_test = pd.concat([Coupon_test[ordinal], Coupon_test_nominal], axis=1)\n",
        "Coupon_test = Coupon_test.astype(int) # Converting all test labels to int\n",
        "\n",
        "print(Coupon_train)\n",
        "print(Coupon_test)"
      ],
      "execution_count": 6,
      "outputs": [
        {
          "output_type": "stream",
          "name": "stdout",
          "text": [
            "       Decision  Bar  ...  Direction_same_0  Direction_same_1\n",
            "0             1    2  ...                 1                 0\n",
            "1             0    0  ...                 1                 0\n",
            "2             1    1  ...                 1                 0\n",
            "3             1    2  ...                 1                 0\n",
            "4             1    0  ...                 0                 1\n",
            "...         ...  ...  ...               ...               ...\n",
            "10179         0    1  ...                 1                 0\n",
            "10180         1    1  ...                 1                 0\n",
            "10181         0    3  ...                 1                 0\n",
            "10182         0    2  ...                 1                 0\n",
            "10183         0    1  ...                 1                 0\n",
            "\n",
            "[10136 rows x 91 columns]\n",
            "      Bar  Coffeehouse  ...  Direction_same_0  Direction_same_1\n",
            "0       3            1  ...                 1                 0\n",
            "1       0            3  ...                 0                 1\n",
            "2       2            1  ...                 1                 0\n",
            "3       0            3  ...                 1                 0\n",
            "4       1            1  ...                 0                 1\n",
            "...   ...          ...  ...               ...               ...\n",
            "2495    1            3  ...                 1                 0\n",
            "2496    1            1  ...                 1                 0\n",
            "2497    2            3  ...                 1                 0\n",
            "2498    1            2  ...                 1                 0\n",
            "2499    2            1  ...                 1                 0\n",
            "\n",
            "[2500 rows x 90 columns]\n"
          ]
        }
      ]
    },
    {
      "cell_type": "markdown",
      "source": [
        "### Specifying Training and Test Data"
      ],
      "metadata": {
        "id": "ps_NrfYOndjL"
      }
    },
    {
      "cell_type": "code",
      "metadata": {
        "colab": {
          "base_uri": "https://localhost:8080/"
        },
        "id": "Bwt2nwGsYWmk",
        "outputId": "2722e9f8-9ee5-4e32-9990-be6e443184ab"
      },
      "source": [
        "X_train, y_train = Coupon_train.iloc[:, 1:], Coupon_train.iloc[:, 0]\n",
        "X_test = Coupon_test.iloc[:,:]\n",
        "print(X_train, '\\n', X_test)"
      ],
      "execution_count": 7,
      "outputs": [
        {
          "output_type": "stream",
          "name": "stdout",
          "text": [
            "       Bar  Coffeehouse  ...  Direction_same_0  Direction_same_1\n",
            "0        2            0  ...                 1                 0\n",
            "1        0            1  ...                 1                 0\n",
            "2        1            1  ...                 1                 0\n",
            "3        2            0  ...                 1                 0\n",
            "4        0            0  ...                 0                 1\n",
            "...    ...          ...  ...               ...               ...\n",
            "10179    1            0  ...                 1                 0\n",
            "10180    1            3  ...                 1                 0\n",
            "10181    3            0  ...                 1                 0\n",
            "10182    2            3  ...                 1                 0\n",
            "10183    1            0  ...                 1                 0\n",
            "\n",
            "[10136 rows x 90 columns] \n",
            "       Bar  Coffeehouse  ...  Direction_same_0  Direction_same_1\n",
            "0       3            1  ...                 1                 0\n",
            "1       0            3  ...                 0                 1\n",
            "2       2            1  ...                 1                 0\n",
            "3       0            3  ...                 1                 0\n",
            "4       1            1  ...                 0                 1\n",
            "...   ...          ...  ...               ...               ...\n",
            "2495    1            3  ...                 1                 0\n",
            "2496    1            1  ...                 1                 0\n",
            "2497    2            3  ...                 1                 0\n",
            "2498    1            2  ...                 1                 0\n",
            "2499    2            1  ...                 1                 0\n",
            "\n",
            "[2500 rows x 90 columns]\n"
          ]
        }
      ]
    },
    {
      "cell_type": "markdown",
      "metadata": {
        "id": "4iBeBNsnu2Kt"
      },
      "source": [
        "### **Logistic Regression (sklearn)**"
      ]
    },
    {
      "cell_type": "markdown",
      "source": [
        "#### Hyperparameter selection through k-fold cross validation"
      ],
      "metadata": {
        "id": "qEg23thx6V2M"
      }
    },
    {
      "cell_type": "code",
      "metadata": {
        "id": "reD40qeYu5PF",
        "colab": {
          "base_uri": "https://localhost:8080/"
        },
        "outputId": "6917b230-c17a-46ca-f65c-752ab74266c9"
      },
      "source": [
        "from itertools import product\n",
        "\n",
        "# Obtaining all possible parameter combinations\n",
        "parameters = {'penalty': ['l2'],'tol': [1e-3, 1e-4, 1e-5, 1e-6], 'C': [10**-4, 10**-3, 10**-2, 0.1, 1, 10, 100, 1000]}\n",
        "parameters = [dict(zip(parameters, v)) for v in product(*parameters.values())]\n",
        "\n",
        "K = 10 # 10-fold cross validation\n",
        "kf = KFold(n_splits=K, random_state=None, shuffle=False)\n",
        "eval_params = []\n",
        "\n",
        "for value, p in enumerate(parameters):\n",
        "    scores = np.zeros(K)\n",
        "    i = 0\n",
        "    if value % 5 == 0: print(\"Elapsed time: {}/{}\".format(value, len(parameters)))\n",
        "\n",
        "    # Splitting Training Data into 9 training folds and one test fold\n",
        "    for train_index, test_index in kf.split(X_train):\n",
        "        X_train_val, X_test_val = X_train.iloc[train_index], X_train.iloc[test_index]\n",
        "        y_train_val, y_test_val = y_train.iloc[train_index], y_train.iloc[test_index]\n",
        "        clf = LogisticRegression(penalty = p['penalty'], tol = p['tol'], C = p['C'], max_iter = 1000)\n",
        "\n",
        "        # Obtain classification accuracy\n",
        "        clf = clf.fit(X_train_val, y_train_val)\n",
        "        y_pred = clf.predict(X_test_val)\n",
        "        scores[i] = accuracy_score(y_test_val, y_pred)\n",
        "        i = i + 1\n",
        "\n",
        "    # Average classification accuracy over folds\n",
        "    eval_params.append((p['penalty'], p['tol'], p['C'], scores.mean()))"
      ],
      "execution_count": 8,
      "outputs": [
        {
          "output_type": "stream",
          "name": "stdout",
          "text": [
            "Elapsed time: 0/32\n",
            "Elapsed time: 5/32\n",
            "Elapsed time: 10/32\n",
            "Elapsed time: 15/32\n",
            "Elapsed time: 20/32\n",
            "Elapsed time: 25/32\n",
            "Elapsed time: 30/32\n"
          ]
        }
      ]
    },
    {
      "cell_type": "code",
      "metadata": {
        "colab": {
          "base_uri": "https://localhost:8080/",
          "height": 1000
        },
        "id": "cEVCXQslMTNh",
        "outputId": "963345da-2aeb-44d6-c698-8a52244c9070"
      },
      "source": [
        "eval_params = np.array(eval_params)\n",
        "p_opt = eval_params[np.argmax(eval_params[:,len(eval_params[0])-1])]\n",
        "print('Optimally Tuned Parameters: [penalty, tol, C] = ', p_opt[0:len(eval_params[0])-1])\n",
        "print('Optimal Validation Accuracy: = ',p_opt[len(eval_params[0])-1],'\\n')\n",
        "print('Accuracies for all Parameter Combinations:')\n",
        "print(eval_params,'\\n')\n",
        "\n",
        "with open(\"file.txt\", 'w') as output:\n",
        "    for row in eval_params:\n",
        "        output.write(str(row) + '\\n')\n",
        "\n",
        "# Plotting hyperparameters vs validation accuracy (recorded)\n",
        "Cs = [10**-4, 10**-3, 10**-2, 0.1, 1, 10, 100, 1000]\n",
        "accuracy_Cs = [0.5691589, 0.661997, 0.6815304, 0.684686, 0.683502, 0.6840944, 0.683897, 0.6839958]\n",
        "plt.rcParams.update({'font.size': 20})\n",
        "fig, axes = plt.subplots(nrows=1, ncols=1); fig.set_size_inches(22, 10); fig.set_dpi(50);\n",
        "plt.subplot(1,1,1)\n",
        "plt.plot(np.log(Cs), accuracy_Cs); plt.grid();\n",
        "plt.legend(['L-BFGS-B with max_iters = 1000, l2 penalty, tol = 0.001'])\n",
        "plt.xlabel('log(C)'); plt.ylabel('Validation Accuracy');\n",
        "\n",
        "# Plotting ROC curve for training data set\n",
        "clf = LogisticRegression(penalty = p_opt[0], tol = float(p_opt[1]), C = float(p_opt[2]), max_iter = 1000)\n",
        "clf = clf.fit(X_train, y_train)\n",
        "y_train_pred = clf.predict(X_train)\n",
        "train_fpr,train_tpr,_ = roc_curve(y_train, y_train_pred)\n",
        "plt.rcParams.update({'font.size': 10}); plt.figure(figsize=(5,5));\n",
        "plt.plot(train_fpr, train_tpr, label= \"Training AUC = %f\" %auc(train_fpr, train_tpr))\n",
        "plt.plot([0,1],[0,1],'g--')\n",
        "plt.legend(); plt.grid();\n",
        "plt.xlabel(\"False Positive Rate\")\n",
        "plt.ylabel(\"True Positive Rate\")\n",
        "plt.title(\"ROC Curve: Logistic Regression\")\n",
        "plt.grid(color='black', linestyle='-', linewidth=0.5)\n",
        "plt.show()"
      ],
      "execution_count": 9,
      "outputs": [
        {
          "output_type": "stream",
          "name": "stdout",
          "text": [
            "Optimally Tuned Parameters: [penalty, tol, C] =  ['l2' '0.001' '0.1']\n",
            "Optimal Validation Accuracy: =  0.6831076673851373 \n",
            "\n",
            "Accuracies for all Parameter Combinations:\n",
            "[['l2' '0.001' '0.0001' '0.5691589221773746']\n",
            " ['l2' '0.001' '0.001' '0.6636739156254685']\n",
            " ['l2' '0.001' '0.01' '0.6817271914811591']\n",
            " ['l2' '0.001' '0.1' '0.6831076673851373']\n",
            " ['l2' '0.001' '1' '0.6829104287263601']\n",
            " ['l2' '0.001' '10' '0.6829102340188983']\n",
            " ['l2' '0.001' '100' '0.6829101366651674']\n",
            " ['l2' '0.001' '1000' '0.6828115173357788']\n",
            " ['l2' '0.0001' '0.0001' '0.5691589221773746']\n",
            " ['l2' '0.0001' '0.001' '0.6636739156254685']\n",
            " ['l2' '0.0001' '0.01' '0.6817271914811591']\n",
            " ['l2' '0.0001' '0.1' '0.6831076673851373']\n",
            " ['l2' '0.0001' '1' '0.6829104287263601']\n",
            " ['l2' '0.0001' '10' '0.6829102340188983']\n",
            " ['l2' '0.0001' '100' '0.6829101366651674']\n",
            " ['l2' '0.0001' '1000' '0.6828115173357788']\n",
            " ['l2' '1e-05' '0.0001' '0.5691589221773746']\n",
            " ['l2' '1e-05' '0.001' '0.6636739156254685']\n",
            " ['l2' '1e-05' '0.01' '0.6817271914811591']\n",
            " ['l2' '1e-05' '0.1' '0.6831076673851373']\n",
            " ['l2' '1e-05' '1' '0.6829104287263601']\n",
            " ['l2' '1e-05' '10' '0.6829102340188983']\n",
            " ['l2' '1e-05' '100' '0.6829101366651674']\n",
            " ['l2' '1e-05' '1000' '0.6828115173357788']\n",
            " ['l2' '1e-06' '0.0001' '0.5691589221773746']\n",
            " ['l2' '1e-06' '0.001' '0.6636739156254685']\n",
            " ['l2' '1e-06' '0.01' '0.6817271914811591']\n",
            " ['l2' '1e-06' '0.1' '0.6831076673851373']\n",
            " ['l2' '1e-06' '1' '0.6829104287263601']\n",
            " ['l2' '1e-06' '10' '0.6829102340188983']\n",
            " ['l2' '1e-06' '100' '0.6829101366651674']\n",
            " ['l2' '1e-06' '1000' '0.6828115173357788']] \n",
            "\n"
          ]
        },
        {
          "output_type": "display_data",
          "data": {
            "image/png": "[encoded data removed]",
            "text/plain": [
              "<Figure size 1100x500 with 1 Axes>"
            ]
          },
          "metadata": {
            "needs_background": "light"
          }
        },
        {
          "output_type": "display_data",
          "data": {
            "image/png": "[encoded data removed]",
            "text/plain": [
              "<Figure size 360x360 with 1 Axes>"
            ]
          },
          "metadata": {
            "needs_background": "light"
          }
        }
      ]
    },
    {
      "cell_type": "markdown",
      "metadata": {
        "id": "8nRbu9dZteww"
      },
      "source": [
        "#### Test Set Prediction"
      ]
    },
    {
      "cell_type": "code",
      "metadata": {
        "id": "1Si-WuacCeI7"
      },
      "source": [
        "# Fit optimal hyperparameters to logistic regression model\n",
        "clf = LogisticRegression(penalty = p_opt[0], tol = float(p_opt[1]), C = float(p_opt[2]), max_iter = 1000)\n",
        "\n",
        "# Obtain predictions on the test set\n",
        "clf = clf.fit(X_train, y_train)\n",
        "y_pred = clf.predict(X_test)\n",
        "\n",
        "import csv\n",
        "from itertools import zip_longest\n",
        "d = [id, y_pred]\n",
        "export_data = zip_longest(*d, fillvalue = '')\n",
        "with open('Logistic Regression.csv', 'w', encoding=\"ISO-8859-1\", newline='') as myfile:\n",
        "      wr = csv.writer(myfile)\n",
        "      wr.writerow((\"id\", \"Decision\"))\n",
        "      wr.writerows(export_data)\n",
        "myfile.close()"
      ],
      "execution_count": 10,
      "outputs": []
    }
  ]
}
